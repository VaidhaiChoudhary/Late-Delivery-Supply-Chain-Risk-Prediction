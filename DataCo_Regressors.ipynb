{
  "cells": [
    {
      "cell_type": "code",
      "execution_count": null,
      "metadata": {
        "_cell_guid": "b1076dfc-b9ad-4769-8c92-a6c4dae69d19",
        "_uuid": "8f2839f25d086af736a60e9eeb907d3b93b6e0e5",
        "id": "tFmWFSGWyOi3"
      },
      "outputs": [],
      "source": [
        "import numpy as np\n",
        "import pandas as pd"
      ]
    },
    {
      "cell_type": "code",
      "execution_count": null,
      "metadata": {
        "_cell_guid": "79c7e3d0-c299-4dcb-8224-4455121ee9b0",
        "_uuid": "d629ff2d2480ee46fbb7e2d37f6b5fab8052498a",
        "id": "_G_h86B1yOi8"
      },
      "outputs": [],
      "source": [
        "DataCoSupplyChainDataset = pd.read_csv(\"DataCoSupplyChainDataset.csv\", header= 0,encoding= 'unicode_escape')"
      ]
    },
    {
      "cell_type": "code",
      "execution_count": null,
      "metadata": {
        "id": "QQY6KMFyyOi9"
      },
      "outputs": [],
      "source": [
        "import numpy as np\n",
        "from sklearn import preprocessing\n",
        "from sklearn import model_selection\n",
        "from sklearn.tree import DecisionTreeRegressor\n",
        "import matplotlib.pyplot as plt\n",
        "from sklearn.metrics import roc_auc_score,r2_score,mean_absolute_error,mean_squared_error,accuracy_score,classification_report,confusion_matrix"
      ]
    },
    {
      "cell_type": "code",
      "execution_count": null,
      "metadata": {
        "id": "BeJ6wpd9yOi-",
        "outputId": "73ab8e7b-423e-4681-eb21-e01f0d06f02a"
      },
      "outputs": [
        {
          "data": {
            "text/html": [
              "<div>\n",
              "<style scoped>\n",
              "    .dataframe tbody tr th:only-of-type {\n",
              "        vertical-align: middle;\n",
              "    }\n",
              "\n",
              "    .dataframe tbody tr th {\n",
              "        vertical-align: top;\n",
              "    }\n",
              "\n",
              "    .dataframe thead th {\n",
              "        text-align: right;\n",
              "    }\n",
              "</style>\n",
              "<table border=\"1\" class=\"dataframe\">\n",
              "  <thead>\n",
              "    <tr style=\"text-align: right;\">\n",
              "      <th></th>\n",
              "      <th>Days for shipping (real)</th>\n",
              "      <th>Days for shipment (scheduled)</th>\n",
              "      <th>Benefit per order</th>\n",
              "      <th>Sales per customer</th>\n",
              "      <th>Late_delivery_risk</th>\n",
              "      <th>Category Id</th>\n",
              "      <th>Customer Id</th>\n",
              "      <th>Customer Zipcode</th>\n",
              "      <th>Department Id</th>\n",
              "      <th>Latitude</th>\n",
              "      <th>...</th>\n",
              "      <th>Order Item Quantity</th>\n",
              "      <th>Sales</th>\n",
              "      <th>Order Item Total</th>\n",
              "      <th>Order Profit Per Order</th>\n",
              "      <th>Order Zipcode</th>\n",
              "      <th>Product Card Id</th>\n",
              "      <th>Product Category Id</th>\n",
              "      <th>Product Description</th>\n",
              "      <th>Product Price</th>\n",
              "      <th>Product Status</th>\n",
              "    </tr>\n",
              "  </thead>\n",
              "  <tbody>\n",
              "    <tr>\n",
              "      <th>count</th>\n",
              "      <td>180519.000000</td>\n",
              "      <td>180519.000000</td>\n",
              "      <td>180519.000000</td>\n",
              "      <td>180519.000000</td>\n",
              "      <td>180519.000000</td>\n",
              "      <td>180519.000000</td>\n",
              "      <td>180519.000000</td>\n",
              "      <td>180516.000000</td>\n",
              "      <td>180519.000000</td>\n",
              "      <td>180519.000000</td>\n",
              "      <td>...</td>\n",
              "      <td>180519.000000</td>\n",
              "      <td>180519.000000</td>\n",
              "      <td>180519.000000</td>\n",
              "      <td>180519.000000</td>\n",
              "      <td>24840.000000</td>\n",
              "      <td>180519.000000</td>\n",
              "      <td>180519.000000</td>\n",
              "      <td>0.0</td>\n",
              "      <td>180519.000000</td>\n",
              "      <td>180519.0</td>\n",
              "    </tr>\n",
              "    <tr>\n",
              "      <th>mean</th>\n",
              "      <td>3.497654</td>\n",
              "      <td>2.931847</td>\n",
              "      <td>21.974989</td>\n",
              "      <td>183.107609</td>\n",
              "      <td>0.548291</td>\n",
              "      <td>31.851451</td>\n",
              "      <td>6691.379495</td>\n",
              "      <td>35921.126914</td>\n",
              "      <td>5.443460</td>\n",
              "      <td>29.719955</td>\n",
              "      <td>...</td>\n",
              "      <td>2.127638</td>\n",
              "      <td>203.772096</td>\n",
              "      <td>183.107609</td>\n",
              "      <td>21.974989</td>\n",
              "      <td>55426.132327</td>\n",
              "      <td>692.509764</td>\n",
              "      <td>31.851451</td>\n",
              "      <td>NaN</td>\n",
              "      <td>141.232550</td>\n",
              "      <td>0.0</td>\n",
              "    </tr>\n",
              "    <tr>\n",
              "      <th>std</th>\n",
              "      <td>1.623722</td>\n",
              "      <td>1.374449</td>\n",
              "      <td>104.433526</td>\n",
              "      <td>120.043670</td>\n",
              "      <td>0.497664</td>\n",
              "      <td>15.640064</td>\n",
              "      <td>4162.918106</td>\n",
              "      <td>37542.461122</td>\n",
              "      <td>1.629246</td>\n",
              "      <td>9.813646</td>\n",
              "      <td>...</td>\n",
              "      <td>1.453451</td>\n",
              "      <td>132.273077</td>\n",
              "      <td>120.043670</td>\n",
              "      <td>104.433526</td>\n",
              "      <td>31919.279101</td>\n",
              "      <td>336.446807</td>\n",
              "      <td>15.640064</td>\n",
              "      <td>NaN</td>\n",
              "      <td>139.732492</td>\n",
              "      <td>0.0</td>\n",
              "    </tr>\n",
              "    <tr>\n",
              "      <th>min</th>\n",
              "      <td>0.000000</td>\n",
              "      <td>0.000000</td>\n",
              "      <td>-4274.979980</td>\n",
              "      <td>7.490000</td>\n",
              "      <td>0.000000</td>\n",
              "      <td>2.000000</td>\n",
              "      <td>1.000000</td>\n",
              "      <td>603.000000</td>\n",
              "      <td>2.000000</td>\n",
              "      <td>-33.937553</td>\n",
              "      <td>...</td>\n",
              "      <td>1.000000</td>\n",
              "      <td>9.990000</td>\n",
              "      <td>7.490000</td>\n",
              "      <td>-4274.979980</td>\n",
              "      <td>1040.000000</td>\n",
              "      <td>19.000000</td>\n",
              "      <td>2.000000</td>\n",
              "      <td>NaN</td>\n",
              "      <td>9.990000</td>\n",
              "      <td>0.0</td>\n",
              "    </tr>\n",
              "    <tr>\n",
              "      <th>25%</th>\n",
              "      <td>2.000000</td>\n",
              "      <td>2.000000</td>\n",
              "      <td>7.000000</td>\n",
              "      <td>104.379997</td>\n",
              "      <td>0.000000</td>\n",
              "      <td>18.000000</td>\n",
              "      <td>3258.500000</td>\n",
              "      <td>725.000000</td>\n",
              "      <td>4.000000</td>\n",
              "      <td>18.265432</td>\n",
              "      <td>...</td>\n",
              "      <td>1.000000</td>\n",
              "      <td>119.980003</td>\n",
              "      <td>104.379997</td>\n",
              "      <td>7.000000</td>\n",
              "      <td>23464.000000</td>\n",
              "      <td>403.000000</td>\n",
              "      <td>18.000000</td>\n",
              "      <td>NaN</td>\n",
              "      <td>50.000000</td>\n",
              "      <td>0.0</td>\n",
              "    </tr>\n",
              "    <tr>\n",
              "      <th>50%</th>\n",
              "      <td>3.000000</td>\n",
              "      <td>4.000000</td>\n",
              "      <td>31.520000</td>\n",
              "      <td>163.990005</td>\n",
              "      <td>1.000000</td>\n",
              "      <td>29.000000</td>\n",
              "      <td>6457.000000</td>\n",
              "      <td>19380.000000</td>\n",
              "      <td>5.000000</td>\n",
              "      <td>33.144863</td>\n",
              "      <td>...</td>\n",
              "      <td>1.000000</td>\n",
              "      <td>199.919998</td>\n",
              "      <td>163.990005</td>\n",
              "      <td>31.520000</td>\n",
              "      <td>59405.000000</td>\n",
              "      <td>627.000000</td>\n",
              "      <td>29.000000</td>\n",
              "      <td>NaN</td>\n",
              "      <td>59.990002</td>\n",
              "      <td>0.0</td>\n",
              "    </tr>\n",
              "    <tr>\n",
              "      <th>75%</th>\n",
              "      <td>5.000000</td>\n",
              "      <td>4.000000</td>\n",
              "      <td>64.800003</td>\n",
              "      <td>247.399994</td>\n",
              "      <td>1.000000</td>\n",
              "      <td>45.000000</td>\n",
              "      <td>9779.000000</td>\n",
              "      <td>78207.000000</td>\n",
              "      <td>7.000000</td>\n",
              "      <td>39.279617</td>\n",
              "      <td>...</td>\n",
              "      <td>3.000000</td>\n",
              "      <td>299.950012</td>\n",
              "      <td>247.399994</td>\n",
              "      <td>64.800003</td>\n",
              "      <td>90008.000000</td>\n",
              "      <td>1004.000000</td>\n",
              "      <td>45.000000</td>\n",
              "      <td>NaN</td>\n",
              "      <td>199.990005</td>\n",
              "      <td>0.0</td>\n",
              "    </tr>\n",
              "    <tr>\n",
              "      <th>max</th>\n",
              "      <td>6.000000</td>\n",
              "      <td>4.000000</td>\n",
              "      <td>911.799988</td>\n",
              "      <td>1939.989990</td>\n",
              "      <td>1.000000</td>\n",
              "      <td>76.000000</td>\n",
              "      <td>20757.000000</td>\n",
              "      <td>99205.000000</td>\n",
              "      <td>12.000000</td>\n",
              "      <td>48.781933</td>\n",
              "      <td>...</td>\n",
              "      <td>5.000000</td>\n",
              "      <td>1999.989990</td>\n",
              "      <td>1939.989990</td>\n",
              "      <td>911.799988</td>\n",
              "      <td>99301.000000</td>\n",
              "      <td>1363.000000</td>\n",
              "      <td>76.000000</td>\n",
              "      <td>NaN</td>\n",
              "      <td>1999.989990</td>\n",
              "      <td>0.0</td>\n",
              "    </tr>\n",
              "  </tbody>\n",
              "</table>\n",
              "<p>8 rows × 29 columns</p>\n",
              "</div>"
            ],
            "text/plain": [
              "       Days for shipping (real)  Days for shipment (scheduled)  \\\n",
              "count             180519.000000                  180519.000000   \n",
              "mean                   3.497654                       2.931847   \n",
              "std                    1.623722                       1.374449   \n",
              "min                    0.000000                       0.000000   \n",
              "25%                    2.000000                       2.000000   \n",
              "50%                    3.000000                       4.000000   \n",
              "75%                    5.000000                       4.000000   \n",
              "max                    6.000000                       4.000000   \n",
              "\n",
              "       Benefit per order  Sales per customer  Late_delivery_risk  \\\n",
              "count      180519.000000       180519.000000       180519.000000   \n",
              "mean           21.974989          183.107609            0.548291   \n",
              "std           104.433526          120.043670            0.497664   \n",
              "min         -4274.979980            7.490000            0.000000   \n",
              "25%             7.000000          104.379997            0.000000   \n",
              "50%            31.520000          163.990005            1.000000   \n",
              "75%            64.800003          247.399994            1.000000   \n",
              "max           911.799988         1939.989990            1.000000   \n",
              "\n",
              "         Category Id    Customer Id  Customer Zipcode  Department Id  \\\n",
              "count  180519.000000  180519.000000     180516.000000  180519.000000   \n",
              "mean       31.851451    6691.379495      35921.126914       5.443460   \n",
              "std        15.640064    4162.918106      37542.461122       1.629246   \n",
              "min         2.000000       1.000000        603.000000       2.000000   \n",
              "25%        18.000000    3258.500000        725.000000       4.000000   \n",
              "50%        29.000000    6457.000000      19380.000000       5.000000   \n",
              "75%        45.000000    9779.000000      78207.000000       7.000000   \n",
              "max        76.000000   20757.000000      99205.000000      12.000000   \n",
              "\n",
              "            Latitude  ...  Order Item Quantity          Sales  \\\n",
              "count  180519.000000  ...        180519.000000  180519.000000   \n",
              "mean       29.719955  ...             2.127638     203.772096   \n",
              "std         9.813646  ...             1.453451     132.273077   \n",
              "min       -33.937553  ...             1.000000       9.990000   \n",
              "25%        18.265432  ...             1.000000     119.980003   \n",
              "50%        33.144863  ...             1.000000     199.919998   \n",
              "75%        39.279617  ...             3.000000     299.950012   \n",
              "max        48.781933  ...             5.000000    1999.989990   \n",
              "\n",
              "       Order Item Total  Order Profit Per Order  Order Zipcode  \\\n",
              "count     180519.000000           180519.000000   24840.000000   \n",
              "mean         183.107609               21.974989   55426.132327   \n",
              "std          120.043670              104.433526   31919.279101   \n",
              "min            7.490000            -4274.979980    1040.000000   \n",
              "25%          104.379997                7.000000   23464.000000   \n",
              "50%          163.990005               31.520000   59405.000000   \n",
              "75%          247.399994               64.800003   90008.000000   \n",
              "max         1939.989990              911.799988   99301.000000   \n",
              "\n",
              "       Product Card Id  Product Category Id  Product Description  \\\n",
              "count    180519.000000        180519.000000                  0.0   \n",
              "mean        692.509764            31.851451                  NaN   \n",
              "std         336.446807            15.640064                  NaN   \n",
              "min          19.000000             2.000000                  NaN   \n",
              "25%         403.000000            18.000000                  NaN   \n",
              "50%         627.000000            29.000000                  NaN   \n",
              "75%        1004.000000            45.000000                  NaN   \n",
              "max        1363.000000            76.000000                  NaN   \n",
              "\n",
              "       Product Price  Product Status  \n",
              "count  180519.000000        180519.0  \n",
              "mean      141.232550             0.0  \n",
              "std       139.732492             0.0  \n",
              "min         9.990000             0.0  \n",
              "25%        50.000000             0.0  \n",
              "50%        59.990002             0.0  \n",
              "75%       199.990005             0.0  \n",
              "max      1999.989990             0.0  \n",
              "\n",
              "[8 rows x 29 columns]"
            ]
          },
          "execution_count": 4,
          "metadata": {},
          "output_type": "execute_result"
        }
      ],
      "source": [
        "DataCoSupplyChainDataset.describe()\n"
      ]
    },
    {
      "cell_type": "code",
      "execution_count": null,
      "metadata": {
        "id": "gs2-6MEeyOjB",
        "outputId": "a29e55e6-aef1-46b0-cb25-180f24148d37"
      },
      "outputs": [
        {
          "data": {
            "text/plain": [
              "(180519, 53)"
            ]
          },
          "execution_count": 5,
          "metadata": {},
          "output_type": "execute_result"
        }
      ],
      "source": [
        "DataCoSupplyChainDataset.shape"
      ]
    },
    {
      "cell_type": "code",
      "execution_count": null,
      "metadata": {
        "id": "hW96YaFHyOjD",
        "outputId": "2f48d8db-214e-4533-e190-a0ddab775094"
      },
      "outputs": [
        {
          "data": {
            "text/html": [
              "<div>\n",
              "<style scoped>\n",
              "    .dataframe tbody tr th:only-of-type {\n",
              "        vertical-align: middle;\n",
              "    }\n",
              "\n",
              "    .dataframe tbody tr th {\n",
              "        vertical-align: top;\n",
              "    }\n",
              "\n",
              "    .dataframe thead th {\n",
              "        text-align: right;\n",
              "    }\n",
              "</style>\n",
              "<table border=\"1\" class=\"dataframe\">\n",
              "  <thead>\n",
              "    <tr style=\"text-align: right;\">\n",
              "      <th></th>\n",
              "      <th>Type</th>\n",
              "      <th>Days for shipping (real)</th>\n",
              "      <th>Days for shipment (scheduled)</th>\n",
              "      <th>Benefit per order</th>\n",
              "      <th>Sales per customer</th>\n",
              "      <th>Delivery Status</th>\n",
              "      <th>Late_delivery_risk</th>\n",
              "      <th>Category Id</th>\n",
              "      <th>Category Name</th>\n",
              "      <th>Customer City</th>\n",
              "      <th>...</th>\n",
              "      <th>Order Zipcode</th>\n",
              "      <th>Product Card Id</th>\n",
              "      <th>Product Category Id</th>\n",
              "      <th>Product Description</th>\n",
              "      <th>Product Image</th>\n",
              "      <th>Product Name</th>\n",
              "      <th>Product Price</th>\n",
              "      <th>Product Status</th>\n",
              "      <th>shipping date (DateOrders)</th>\n",
              "      <th>Shipping Mode</th>\n",
              "    </tr>\n",
              "  </thead>\n",
              "  <tbody>\n",
              "    <tr>\n",
              "      <th>0</th>\n",
              "      <td>DEBIT</td>\n",
              "      <td>3</td>\n",
              "      <td>4</td>\n",
              "      <td>91.250000</td>\n",
              "      <td>314.640015</td>\n",
              "      <td>Advance shipping</td>\n",
              "      <td>0</td>\n",
              "      <td>73</td>\n",
              "      <td>Sporting Goods</td>\n",
              "      <td>Caguas</td>\n",
              "      <td>...</td>\n",
              "      <td>NaN</td>\n",
              "      <td>1360</td>\n",
              "      <td>73</td>\n",
              "      <td>NaN</td>\n",
              "      <td>http://images.acmesports.sports/Smart+watch</td>\n",
              "      <td>Smart watch</td>\n",
              "      <td>327.75</td>\n",
              "      <td>0</td>\n",
              "      <td>2/3/2018 22:56</td>\n",
              "      <td>Standard Class</td>\n",
              "    </tr>\n",
              "    <tr>\n",
              "      <th>1</th>\n",
              "      <td>TRANSFER</td>\n",
              "      <td>5</td>\n",
              "      <td>4</td>\n",
              "      <td>-249.089996</td>\n",
              "      <td>311.359985</td>\n",
              "      <td>Late delivery</td>\n",
              "      <td>1</td>\n",
              "      <td>73</td>\n",
              "      <td>Sporting Goods</td>\n",
              "      <td>Caguas</td>\n",
              "      <td>...</td>\n",
              "      <td>NaN</td>\n",
              "      <td>1360</td>\n",
              "      <td>73</td>\n",
              "      <td>NaN</td>\n",
              "      <td>http://images.acmesports.sports/Smart+watch</td>\n",
              "      <td>Smart watch</td>\n",
              "      <td>327.75</td>\n",
              "      <td>0</td>\n",
              "      <td>1/18/2018 12:27</td>\n",
              "      <td>Standard Class</td>\n",
              "    </tr>\n",
              "    <tr>\n",
              "      <th>2</th>\n",
              "      <td>CASH</td>\n",
              "      <td>4</td>\n",
              "      <td>4</td>\n",
              "      <td>-247.779999</td>\n",
              "      <td>309.720001</td>\n",
              "      <td>Shipping on time</td>\n",
              "      <td>0</td>\n",
              "      <td>73</td>\n",
              "      <td>Sporting Goods</td>\n",
              "      <td>San Jose</td>\n",
              "      <td>...</td>\n",
              "      <td>NaN</td>\n",
              "      <td>1360</td>\n",
              "      <td>73</td>\n",
              "      <td>NaN</td>\n",
              "      <td>http://images.acmesports.sports/Smart+watch</td>\n",
              "      <td>Smart watch</td>\n",
              "      <td>327.75</td>\n",
              "      <td>0</td>\n",
              "      <td>1/17/2018 12:06</td>\n",
              "      <td>Standard Class</td>\n",
              "    </tr>\n",
              "    <tr>\n",
              "      <th>3</th>\n",
              "      <td>DEBIT</td>\n",
              "      <td>3</td>\n",
              "      <td>4</td>\n",
              "      <td>22.860001</td>\n",
              "      <td>304.809998</td>\n",
              "      <td>Advance shipping</td>\n",
              "      <td>0</td>\n",
              "      <td>73</td>\n",
              "      <td>Sporting Goods</td>\n",
              "      <td>Los Angeles</td>\n",
              "      <td>...</td>\n",
              "      <td>NaN</td>\n",
              "      <td>1360</td>\n",
              "      <td>73</td>\n",
              "      <td>NaN</td>\n",
              "      <td>http://images.acmesports.sports/Smart+watch</td>\n",
              "      <td>Smart watch</td>\n",
              "      <td>327.75</td>\n",
              "      <td>0</td>\n",
              "      <td>1/16/2018 11:45</td>\n",
              "      <td>Standard Class</td>\n",
              "    </tr>\n",
              "    <tr>\n",
              "      <th>4</th>\n",
              "      <td>PAYMENT</td>\n",
              "      <td>2</td>\n",
              "      <td>4</td>\n",
              "      <td>134.210007</td>\n",
              "      <td>298.250000</td>\n",
              "      <td>Advance shipping</td>\n",
              "      <td>0</td>\n",
              "      <td>73</td>\n",
              "      <td>Sporting Goods</td>\n",
              "      <td>Caguas</td>\n",
              "      <td>...</td>\n",
              "      <td>NaN</td>\n",
              "      <td>1360</td>\n",
              "      <td>73</td>\n",
              "      <td>NaN</td>\n",
              "      <td>http://images.acmesports.sports/Smart+watch</td>\n",
              "      <td>Smart watch</td>\n",
              "      <td>327.75</td>\n",
              "      <td>0</td>\n",
              "      <td>1/15/2018 11:24</td>\n",
              "      <td>Standard Class</td>\n",
              "    </tr>\n",
              "  </tbody>\n",
              "</table>\n",
              "<p>5 rows × 53 columns</p>\n",
              "</div>"
            ],
            "text/plain": [
              "       Type  Days for shipping (real)  Days for shipment (scheduled)  \\\n",
              "0     DEBIT                         3                              4   \n",
              "1  TRANSFER                         5                              4   \n",
              "2      CASH                         4                              4   \n",
              "3     DEBIT                         3                              4   \n",
              "4   PAYMENT                         2                              4   \n",
              "\n",
              "   Benefit per order  Sales per customer   Delivery Status  \\\n",
              "0          91.250000          314.640015  Advance shipping   \n",
              "1        -249.089996          311.359985     Late delivery   \n",
              "2        -247.779999          309.720001  Shipping on time   \n",
              "3          22.860001          304.809998  Advance shipping   \n",
              "4         134.210007          298.250000  Advance shipping   \n",
              "\n",
              "   Late_delivery_risk  Category Id   Category Name Customer City  ...  \\\n",
              "0                   0           73  Sporting Goods        Caguas  ...   \n",
              "1                   1           73  Sporting Goods        Caguas  ...   \n",
              "2                   0           73  Sporting Goods      San Jose  ...   \n",
              "3                   0           73  Sporting Goods   Los Angeles  ...   \n",
              "4                   0           73  Sporting Goods        Caguas  ...   \n",
              "\n",
              "  Order Zipcode Product Card Id Product Category Id  Product Description  \\\n",
              "0           NaN            1360                  73                  NaN   \n",
              "1           NaN            1360                  73                  NaN   \n",
              "2           NaN            1360                  73                  NaN   \n",
              "3           NaN            1360                  73                  NaN   \n",
              "4           NaN            1360                  73                  NaN   \n",
              "\n",
              "                                  Product Image  Product Name Product Price  \\\n",
              "0  http://images.acmesports.sports/Smart+watch   Smart watch         327.75   \n",
              "1  http://images.acmesports.sports/Smart+watch   Smart watch         327.75   \n",
              "2  http://images.acmesports.sports/Smart+watch   Smart watch         327.75   \n",
              "3  http://images.acmesports.sports/Smart+watch   Smart watch         327.75   \n",
              "4  http://images.acmesports.sports/Smart+watch   Smart watch         327.75   \n",
              "\n",
              "  Product Status shipping date (DateOrders)   Shipping Mode  \n",
              "0              0             2/3/2018 22:56  Standard Class  \n",
              "1              0            1/18/2018 12:27  Standard Class  \n",
              "2              0            1/17/2018 12:06  Standard Class  \n",
              "3              0            1/16/2018 11:45  Standard Class  \n",
              "4              0            1/15/2018 11:24  Standard Class  \n",
              "\n",
              "[5 rows x 53 columns]"
            ]
          },
          "execution_count": 6,
          "metadata": {},
          "output_type": "execute_result"
        }
      ],
      "source": [
        "DataCoSupplyChainDataset.head()"
      ]
    },
    {
      "cell_type": "code",
      "execution_count": null,
      "metadata": {
        "id": "vLVDMkB-yOjD",
        "outputId": "03608762-a66d-42e5-cacb-58bf7c5055ee"
      },
      "outputs": [
        {
          "data": {
            "text/plain": [
              "<bound method DataFrame.info of             Type  Days for shipping (real)  Days for shipment (scheduled)  \\\n",
              "0          DEBIT                         3                              4   \n",
              "1       TRANSFER                         5                              4   \n",
              "2           CASH                         4                              4   \n",
              "3          DEBIT                         3                              4   \n",
              "4        PAYMENT                         2                              4   \n",
              "...          ...                       ...                            ...   \n",
              "180514      CASH                         4                              4   \n",
              "180515     DEBIT                         3                              2   \n",
              "180516  TRANSFER                         5                              4   \n",
              "180517   PAYMENT                         3                              4   \n",
              "180518   PAYMENT                         4                              4   \n",
              "\n",
              "        Benefit per order  Sales per customer   Delivery Status  \\\n",
              "0               91.250000          314.640015  Advance shipping   \n",
              "1             -249.089996          311.359985     Late delivery   \n",
              "2             -247.779999          309.720001  Shipping on time   \n",
              "3               22.860001          304.809998  Advance shipping   \n",
              "4              134.210007          298.250000  Advance shipping   \n",
              "...                   ...                 ...               ...   \n",
              "180514          40.000000          399.980011  Shipping on time   \n",
              "180515        -613.770019          395.980011     Late delivery   \n",
              "180516         141.110001          391.980011     Late delivery   \n",
              "180517         186.229996          387.980011  Advance shipping   \n",
              "180518         168.949997          383.980011  Shipping on time   \n",
              "\n",
              "        Late_delivery_risk  Category Id   Category Name Customer City  ...  \\\n",
              "0                        0           73  Sporting Goods        Caguas  ...   \n",
              "1                        1           73  Sporting Goods        Caguas  ...   \n",
              "2                        0           73  Sporting Goods      San Jose  ...   \n",
              "3                        0           73  Sporting Goods   Los Angeles  ...   \n",
              "4                        0           73  Sporting Goods        Caguas  ...   \n",
              "...                    ...          ...             ...           ...  ...   \n",
              "180514                   0           45         Fishing      Brooklyn  ...   \n",
              "180515                   1           45         Fishing   Bakersfield  ...   \n",
              "180516                   1           45         Fishing       Bristol  ...   \n",
              "180517                   0           45         Fishing        Caguas  ...   \n",
              "180518                   0           45         Fishing        Caguas  ...   \n",
              "\n",
              "       Order Zipcode Product Card Id Product Category Id  Product Description  \\\n",
              "0                NaN            1360                  73                  NaN   \n",
              "1                NaN            1360                  73                  NaN   \n",
              "2                NaN            1360                  73                  NaN   \n",
              "3                NaN            1360                  73                  NaN   \n",
              "4                NaN            1360                  73                  NaN   \n",
              "...              ...             ...                 ...                  ...   \n",
              "180514           NaN            1004                  45                  NaN   \n",
              "180515           NaN            1004                  45                  NaN   \n",
              "180516           NaN            1004                  45                  NaN   \n",
              "180517           NaN            1004                  45                  NaN   \n",
              "180518           NaN            1004                  45                  NaN   \n",
              "\n",
              "                                            Product Image  \\\n",
              "0            http://images.acmesports.sports/Smart+watch    \n",
              "1            http://images.acmesports.sports/Smart+watch    \n",
              "2            http://images.acmesports.sports/Smart+watch    \n",
              "3            http://images.acmesports.sports/Smart+watch    \n",
              "4            http://images.acmesports.sports/Smart+watch    \n",
              "...                                                   ...   \n",
              "180514  http://images.acmesports.sports/Field+%26+Stre...   \n",
              "180515  http://images.acmesports.sports/Field+%26+Stre...   \n",
              "180516  http://images.acmesports.sports/Field+%26+Stre...   \n",
              "180517  http://images.acmesports.sports/Field+%26+Stre...   \n",
              "180518  http://images.acmesports.sports/Field+%26+Stre...   \n",
              "\n",
              "                                     Product Name Product Price  \\\n",
              "0                                    Smart watch     327.750000   \n",
              "1                                    Smart watch     327.750000   \n",
              "2                                    Smart watch     327.750000   \n",
              "3                                    Smart watch     327.750000   \n",
              "4                                    Smart watch     327.750000   \n",
              "...                                           ...           ...   \n",
              "180514  Field & Stream Sportsman 16 Gun Fire Safe    399.980011   \n",
              "180515  Field & Stream Sportsman 16 Gun Fire Safe    399.980011   \n",
              "180516  Field & Stream Sportsman 16 Gun Fire Safe    399.980011   \n",
              "180517  Field & Stream Sportsman 16 Gun Fire Safe    399.980011   \n",
              "180518  Field & Stream Sportsman 16 Gun Fire Safe    399.980011   \n",
              "\n",
              "       Product Status shipping date (DateOrders)   Shipping Mode  \n",
              "0                   0             2/3/2018 22:56  Standard Class  \n",
              "1                   0            1/18/2018 12:27  Standard Class  \n",
              "2                   0            1/17/2018 12:06  Standard Class  \n",
              "3                   0            1/16/2018 11:45  Standard Class  \n",
              "4                   0            1/15/2018 11:24  Standard Class  \n",
              "...               ...                        ...             ...  \n",
              "180514              0             1/20/2016 3:40  Standard Class  \n",
              "180515              0             1/19/2016 1:34    Second Class  \n",
              "180516              0            1/20/2016 21:00  Standard Class  \n",
              "180517              0            1/18/2016 20:18  Standard Class  \n",
              "180518              0            1/19/2016 18:54  Standard Class  \n",
              "\n",
              "[180519 rows x 53 columns]>"
            ]
          },
          "execution_count": 7,
          "metadata": {},
          "output_type": "execute_result"
        }
      ],
      "source": [
        "DataCoSupplyChainDataset.info"
      ]
    },
    {
      "cell_type": "code",
      "execution_count": null,
      "metadata": {
        "id": "eFd8-o1oyOjG",
        "outputId": "66ccaf6d-b6cb-4ed6-e27e-af1b52f6651d"
      },
      "outputs": [
        {
          "data": {
            "text/plain": [
              "Type                             False\n",
              "Days for shipping (real)         False\n",
              "Days for shipment (scheduled)    False\n",
              "Benefit per order                False\n",
              "Sales per customer               False\n",
              "Delivery Status                  False\n",
              "Late_delivery_risk               False\n",
              "Category Id                      False\n",
              "Category Name                    False\n",
              "Customer City                    False\n",
              "Customer Country                 False\n",
              "Customer Email                   False\n",
              "Customer Fname                   False\n",
              "Customer Id                      False\n",
              "Customer Lname                    True\n",
              "Customer Password                False\n",
              "Customer Segment                 False\n",
              "Customer State                   False\n",
              "Customer Street                  False\n",
              "Customer Zipcode                  True\n",
              "Department Id                    False\n",
              "Department Name                  False\n",
              "Latitude                         False\n",
              "Longitude                        False\n",
              "Market                           False\n",
              "Order City                       False\n",
              "Order Country                    False\n",
              "Order Customer Id                False\n",
              "order date (DateOrders)          False\n",
              "Order Id                         False\n",
              "Order Item Cardprod Id           False\n",
              "Order Item Discount              False\n",
              "Order Item Discount Rate         False\n",
              "Order Item Id                    False\n",
              "Order Item Product Price         False\n",
              "Order Item Profit Ratio          False\n",
              "Order Item Quantity              False\n",
              "Sales                            False\n",
              "Order Item Total                 False\n",
              "Order Profit Per Order           False\n",
              "Order Region                     False\n",
              "Order State                      False\n",
              "Order Status                     False\n",
              "Order Zipcode                     True\n",
              "Product Card Id                  False\n",
              "Product Category Id              False\n",
              "Product Description               True\n",
              "Product Image                    False\n",
              "Product Name                     False\n",
              "Product Price                    False\n",
              "Product Status                   False\n",
              "shipping date (DateOrders)       False\n",
              "Shipping Mode                    False\n",
              "dtype: bool"
            ]
          },
          "execution_count": 8,
          "metadata": {},
          "output_type": "execute_result"
        }
      ],
      "source": [
        "DataCoSupplyChainDataset.isnull().any()"
      ]
    },
    {
      "cell_type": "code",
      "execution_count": null,
      "metadata": {
        "id": "przE0g5byOjJ",
        "outputId": "9129a9bb-77d5-4fb8-a577-5c8d88abb010"
      },
      "outputs": [
        {
          "name": "stdout",
          "output_type": "stream",
          "text": [
            "Number of columns :  53\n",
            "Number of rows  :  180519\n",
            "Total number of data-points : 9567507\n",
            "Count of Numerical Features : 29\n",
            "Count of Categorical Features : 24\n"
          ]
        }
      ],
      "source": [
        "def data_info(data):\n",
        "    print('Number of columns : ',data.shape[1])\n",
        "    print('Number of rows  : ',data.shape[0])\n",
        "    print('Total number of data-points :',data.size)\n",
        "    numerical_features = [f for f in data.columns if data[f].dtypes!='O']\n",
        "    print('Count of Numerical Features :',len(numerical_features))\n",
        "    cat_features = [c for c in data.columns if data[c].dtypes=='O']\n",
        "    print('Count of Categorical Features :',len(cat_features))\n",
        "data_info(DataCoSupplyChainDataset)\n"
      ]
    },
    {
      "cell_type": "code",
      "execution_count": null,
      "metadata": {
        "id": "-QKNoVmvyOjN",
        "outputId": "11d4830d-edcd-49b9-93e6-8905b89c041d"
      },
      "outputs": [
        {
          "name": "stdout",
          "output_type": "stream",
          "text": [
            "Percentage of Total Missing Values  3.51 %\n",
            "Missing Value Information :\n",
            "Customer Lname = 8\n",
            "Customer Zipcode = 3\n",
            "Order Zipcode = 155679\n",
            "Product Description = 180519\n"
          ]
        }
      ],
      "source": [
        "def features_with_missing_values(data):\n",
        "    x = data.isnull().sum().sum()/(data.shape[0]*data.shape[1])*100\n",
        "    print('Percentage of Total Missing Values ' ,round(x,2) ,'%')\n",
        "    print('Missing Value Information :')\n",
        "    for i in data.columns:\n",
        "        if data[i].isna().sum()>0:\n",
        "            print(i + \" = \" +str(data[i].isna().sum()))\n",
        "\n",
        "features_with_missing_values(DataCoSupplyChainDataset)"
      ]
    },
    {
      "cell_type": "code",
      "execution_count": null,
      "metadata": {
        "id": "Ae2TmNsMyOjP"
      },
      "outputs": [],
      "source": [
        "DataCoSupplyChainDataset['order_date'] = pd.to_datetime(DataCoSupplyChainDataset['order date (DateOrders)'])\n",
        "DataCoSupplyChainDataset['shipping_date']=pd.to_datetime(DataCoSupplyChainDataset['shipping date (DateOrders)'])"
      ]
    },
    {
      "cell_type": "code",
      "execution_count": null,
      "metadata": {
        "id": "e0K2u9gGyOjQ"
      },
      "outputs": [],
      "source": [
        "\n",
        "DataCoSupplyChainDataset['order_year'] = pd.DatetimeIndex(DataCoSupplyChainDataset['order_date']).year\n",
        "DataCoSupplyChainDataset['order_month'] = pd.DatetimeIndex(DataCoSupplyChainDataset['order_date']).month\n",
        "DataCoSupplyChainDataset['order_day'] = pd.DatetimeIndex(DataCoSupplyChainDataset['order_date']).day\n",
        "DataCoSupplyChainDataset['shipping_year'] = pd.DatetimeIndex(DataCoSupplyChainDataset['shipping_date']).year\n",
        "DataCoSupplyChainDataset['shipping_month'] = pd.DatetimeIndex(DataCoSupplyChainDataset['shipping_date']).month\n",
        "DataCoSupplyChainDataset['shipping_day'] = pd.DatetimeIndex(DataCoSupplyChainDataset['shipping_date']).day"
      ]
    },
    {
      "cell_type": "code",
      "execution_count": null,
      "metadata": {
        "id": "nCCEI0cwyOjR",
        "outputId": "daf37903-ed6b-432b-8554-1cf5a821764e"
      },
      "outputs": [
        {
          "data": {
            "text/plain": [
              "21"
            ]
          },
          "execution_count": 13,
          "metadata": {},
          "output_type": "execute_result"
        }
      ],
      "source": [
        "new_dataset_features = ['Type','Days for shipping (real)','Days for shipment (scheduled)','Late_delivery_risk','Benefit per order',\n",
        "                        'Sales per customer','Latitude','Longitude','Shipping Mode','Order Status','Order Region',\n",
        "                        'Order Country','Order City','Market','Delivery Status','order_day','order_month','order_year',\n",
        "                        'shipping_day','shipping_month','shipping_year']\n",
        "len(new_dataset_features)"
      ]
    },
    {
      "cell_type": "code",
      "execution_count": null,
      "metadata": {
        "id": "3s6DTFJ6yOjR",
        "outputId": "45a85a5a-6b1e-4641-e457-3f0137f0b26f"
      },
      "outputs": [
        {
          "data": {
            "text/html": [
              "<div>\n",
              "<style scoped>\n",
              "    .dataframe tbody tr th:only-of-type {\n",
              "        vertical-align: middle;\n",
              "    }\n",
              "\n",
              "    .dataframe tbody tr th {\n",
              "        vertical-align: top;\n",
              "    }\n",
              "\n",
              "    .dataframe thead th {\n",
              "        text-align: right;\n",
              "    }\n",
              "</style>\n",
              "<table border=\"1\" class=\"dataframe\">\n",
              "  <thead>\n",
              "    <tr style=\"text-align: right;\">\n",
              "      <th></th>\n",
              "      <th>Type</th>\n",
              "      <th>Days for shipping (real)</th>\n",
              "      <th>Days for shipment (scheduled)</th>\n",
              "      <th>Late_delivery_risk</th>\n",
              "      <th>Benefit per order</th>\n",
              "      <th>Sales per customer</th>\n",
              "      <th>Latitude</th>\n",
              "      <th>Longitude</th>\n",
              "      <th>Shipping Mode</th>\n",
              "      <th>Order Status</th>\n",
              "      <th>...</th>\n",
              "      <th>Order Country</th>\n",
              "      <th>Order City</th>\n",
              "      <th>Market</th>\n",
              "      <th>Delivery Status</th>\n",
              "      <th>order_day</th>\n",
              "      <th>order_month</th>\n",
              "      <th>order_year</th>\n",
              "      <th>shipping_day</th>\n",
              "      <th>shipping_month</th>\n",
              "      <th>shipping_year</th>\n",
              "    </tr>\n",
              "  </thead>\n",
              "  <tbody>\n",
              "    <tr>\n",
              "      <th>0</th>\n",
              "      <td>DEBIT</td>\n",
              "      <td>3</td>\n",
              "      <td>4</td>\n",
              "      <td>0</td>\n",
              "      <td>91.250000</td>\n",
              "      <td>314.640015</td>\n",
              "      <td>18.251453</td>\n",
              "      <td>-66.037056</td>\n",
              "      <td>Standard Class</td>\n",
              "      <td>COMPLETE</td>\n",
              "      <td>...</td>\n",
              "      <td>Indonesia</td>\n",
              "      <td>Bekasi</td>\n",
              "      <td>Pacific Asia</td>\n",
              "      <td>Advance shipping</td>\n",
              "      <td>31</td>\n",
              "      <td>1</td>\n",
              "      <td>2018</td>\n",
              "      <td>3</td>\n",
              "      <td>2</td>\n",
              "      <td>2018</td>\n",
              "    </tr>\n",
              "    <tr>\n",
              "      <th>1</th>\n",
              "      <td>TRANSFER</td>\n",
              "      <td>5</td>\n",
              "      <td>4</td>\n",
              "      <td>1</td>\n",
              "      <td>-249.089996</td>\n",
              "      <td>311.359985</td>\n",
              "      <td>18.279451</td>\n",
              "      <td>-66.037064</td>\n",
              "      <td>Standard Class</td>\n",
              "      <td>PENDING</td>\n",
              "      <td>...</td>\n",
              "      <td>India</td>\n",
              "      <td>Bikaner</td>\n",
              "      <td>Pacific Asia</td>\n",
              "      <td>Late delivery</td>\n",
              "      <td>13</td>\n",
              "      <td>1</td>\n",
              "      <td>2018</td>\n",
              "      <td>18</td>\n",
              "      <td>1</td>\n",
              "      <td>2018</td>\n",
              "    </tr>\n",
              "    <tr>\n",
              "      <th>2</th>\n",
              "      <td>CASH</td>\n",
              "      <td>4</td>\n",
              "      <td>4</td>\n",
              "      <td>0</td>\n",
              "      <td>-247.779999</td>\n",
              "      <td>309.720001</td>\n",
              "      <td>37.292233</td>\n",
              "      <td>-121.881279</td>\n",
              "      <td>Standard Class</td>\n",
              "      <td>CLOSED</td>\n",
              "      <td>...</td>\n",
              "      <td>India</td>\n",
              "      <td>Bikaner</td>\n",
              "      <td>Pacific Asia</td>\n",
              "      <td>Shipping on time</td>\n",
              "      <td>13</td>\n",
              "      <td>1</td>\n",
              "      <td>2018</td>\n",
              "      <td>17</td>\n",
              "      <td>1</td>\n",
              "      <td>2018</td>\n",
              "    </tr>\n",
              "    <tr>\n",
              "      <th>3</th>\n",
              "      <td>DEBIT</td>\n",
              "      <td>3</td>\n",
              "      <td>4</td>\n",
              "      <td>0</td>\n",
              "      <td>22.860001</td>\n",
              "      <td>304.809998</td>\n",
              "      <td>34.125946</td>\n",
              "      <td>-118.291016</td>\n",
              "      <td>Standard Class</td>\n",
              "      <td>COMPLETE</td>\n",
              "      <td>...</td>\n",
              "      <td>Australia</td>\n",
              "      <td>Townsville</td>\n",
              "      <td>Pacific Asia</td>\n",
              "      <td>Advance shipping</td>\n",
              "      <td>13</td>\n",
              "      <td>1</td>\n",
              "      <td>2018</td>\n",
              "      <td>16</td>\n",
              "      <td>1</td>\n",
              "      <td>2018</td>\n",
              "    </tr>\n",
              "    <tr>\n",
              "      <th>4</th>\n",
              "      <td>PAYMENT</td>\n",
              "      <td>2</td>\n",
              "      <td>4</td>\n",
              "      <td>0</td>\n",
              "      <td>134.210007</td>\n",
              "      <td>298.250000</td>\n",
              "      <td>18.253769</td>\n",
              "      <td>-66.037048</td>\n",
              "      <td>Standard Class</td>\n",
              "      <td>PENDING_PAYMENT</td>\n",
              "      <td>...</td>\n",
              "      <td>Australia</td>\n",
              "      <td>Townsville</td>\n",
              "      <td>Pacific Asia</td>\n",
              "      <td>Advance shipping</td>\n",
              "      <td>13</td>\n",
              "      <td>1</td>\n",
              "      <td>2018</td>\n",
              "      <td>15</td>\n",
              "      <td>1</td>\n",
              "      <td>2018</td>\n",
              "    </tr>\n",
              "  </tbody>\n",
              "</table>\n",
              "<p>5 rows × 21 columns</p>\n",
              "</div>"
            ],
            "text/plain": [
              "       Type  Days for shipping (real)  Days for shipment (scheduled)  \\\n",
              "0     DEBIT                         3                              4   \n",
              "1  TRANSFER                         5                              4   \n",
              "2      CASH                         4                              4   \n",
              "3     DEBIT                         3                              4   \n",
              "4   PAYMENT                         2                              4   \n",
              "\n",
              "   Late_delivery_risk  Benefit per order  Sales per customer   Latitude  \\\n",
              "0                   0          91.250000          314.640015  18.251453   \n",
              "1                   1        -249.089996          311.359985  18.279451   \n",
              "2                   0        -247.779999          309.720001  37.292233   \n",
              "3                   0          22.860001          304.809998  34.125946   \n",
              "4                   0         134.210007          298.250000  18.253769   \n",
              "\n",
              "    Longitude   Shipping Mode     Order Status  ... Order Country  Order City  \\\n",
              "0  -66.037056  Standard Class         COMPLETE  ...     Indonesia      Bekasi   \n",
              "1  -66.037064  Standard Class          PENDING  ...         India     Bikaner   \n",
              "2 -121.881279  Standard Class           CLOSED  ...         India     Bikaner   \n",
              "3 -118.291016  Standard Class         COMPLETE  ...     Australia  Townsville   \n",
              "4  -66.037048  Standard Class  PENDING_PAYMENT  ...     Australia  Townsville   \n",
              "\n",
              "         Market   Delivery Status order_day  order_month  order_year  \\\n",
              "0  Pacific Asia  Advance shipping        31            1        2018   \n",
              "1  Pacific Asia     Late delivery        13            1        2018   \n",
              "2  Pacific Asia  Shipping on time        13            1        2018   \n",
              "3  Pacific Asia  Advance shipping        13            1        2018   \n",
              "4  Pacific Asia  Advance shipping        13            1        2018   \n",
              "\n",
              "   shipping_day  shipping_month  shipping_year  \n",
              "0             3               2           2018  \n",
              "1            18               1           2018  \n",
              "2            17               1           2018  \n",
              "3            16               1           2018  \n",
              "4            15               1           2018  \n",
              "\n",
              "[5 rows x 21 columns]"
            ]
          },
          "execution_count": 14,
          "metadata": {},
          "output_type": "execute_result"
        }
      ],
      "source": [
        "DataCoSupplyChainDataset = DataCoSupplyChainDataset[new_dataset_features]\n",
        "DataCoSupplyChainDataset.head()"
      ]
    },
    {
      "cell_type": "code",
      "execution_count": null,
      "metadata": {
        "id": "98_WcTMYyOjS",
        "outputId": "d162ec6e-0dac-4313-b43b-1b41a1ef92ae"
      },
      "outputs": [
        {
          "data": {
            "text/plain": [
              "(180519, 3823)"
            ]
          },
          "execution_count": 15,
          "metadata": {},
          "output_type": "execute_result"
        }
      ],
      "source": [
        "model_data = pd.get_dummies(DataCoSupplyChainDataset)\n",
        "model_data.shape"
      ]
    },
    {
      "cell_type": "code",
      "execution_count": null,
      "metadata": {
        "id": "E-atqMrsyOjT",
        "outputId": "bf05c0f5-eabd-47a1-d057-a42fda2f51b8"
      },
      "outputs": [
        {
          "data": {
            "text/plain": [
              "((180519, 3821), (180519, 2))"
            ]
          },
          "execution_count": 16,
          "metadata": {},
          "output_type": "execute_result"
        }
      ],
      "source": [
        "x = model_data.drop(['Days for shipping (real)','Days for shipment (scheduled)'],axis=1)\n",
        "y = model_data[['Days for shipping (real)','Days for shipment (scheduled)']]\n",
        "x.shape,y.shape"
      ]
    },
    {
      "cell_type": "code",
      "execution_count": null,
      "metadata": {
        "id": "zqToDKN3yOjU"
      },
      "outputs": [],
      "source": [
        "x_train,x_test,y_train,y_test = model_selection.train_test_split(x,y,test_size=0.15)"
      ]
    },
    {
      "cell_type": "code",
      "execution_count": null,
      "metadata": {
        "id": "fze9XQtByOjU"
      },
      "outputs": [],
      "source": [
        "r_scores = []"
      ]
    },
    {
      "cell_type": "code",
      "execution_count": null,
      "metadata": {
        "id": "FTQBWKVPyOjV"
      },
      "outputs": [],
      "source": [
        "# import regressors\n",
        "from sklearn.neighbors import KNeighborsRegressor\n",
        "from sklearn.svm import LinearSVR, SVR\n",
        "from sklearn.linear_model import LinearRegression, SGDRegressor\n",
        "from sklearn.ensemble import BaggingRegressor, RandomForestRegressor, ExtraTreesRegressor\n",
        "from sklearn.neural_network import MLPRegressor\n",
        "from sklearn.metrics import mean_squared_error, r2_score"
      ]
    },
    {
      "cell_type": "code",
      "execution_count": null,
      "metadata": {
        "id": "PCvl99FkyOjV",
        "outputId": "735dd28c-3729-40a7-fdb9-0cb8c07abf33"
      },
      "outputs": [
        {
          "name": "stdout",
          "output_type": "stream",
          "text": [
            "Linear Regression:\n",
            "Mean Squared Error: 0.02987379564755963\n",
            "R-Squared : 0.9884425588785509\n"
          ]
        }
      ],
      "source": [
        "# Linear Regression\n",
        "linear_model = LinearRegression()\n",
        "linear_model.fit(x_train, y_train)\n",
        "y_pred_linear = linear_model.predict(x_test)\n",
        "\n",
        "# Evaluate the performance of linear regression\n",
        "mse_linear = mean_squared_error(y_test, y_pred_linear)\n",
        "r2_linear = r2_score(y_test,y_pred_linear)\n",
        "r_scores.append(r2_linear)\n",
        "\n",
        "print(\"Linear Regression:\")\n",
        "print(f'Mean Squared Error: {mse_linear}')\n",
        "print(f'R-Squared : {r2_linear}')"
      ]
    },
    {
      "cell_type": "code",
      "execution_count": null,
      "metadata": {
        "id": "pv8WUwLOyOjW",
        "outputId": "208a7665-c6e6-479a-ed78-2c1331ebdc97"
      },
      "outputs": [
        {
          "name": "stdout",
          "output_type": "stream",
          "text": [
            "Random Forest Regressor :\n",
            "Mean Squared Error: 0.008129450107098202\n",
            "R-Squared : 0.9968549145186972\n"
          ]
        }
      ],
      "source": [
        "# Random Forest Regressor\n",
        "rf_model = RandomForestRegressor(n_estimators=100, random_state=42)\n",
        "rf_model.fit(x_train, y_train)\n",
        "y_pred_rf = rf_model.predict(x_test)\n",
        "\n",
        "# Evaluate the performance of random forest regressor\n",
        "mse_rf = mean_squared_error(y_test, y_pred_rf)\n",
        "r2_rf = r2_score(y_test,y_pred_rf)\n",
        "r_scores.append(r2_rf)\n",
        "\n",
        "print(\"Random Forest Regressor :\")\n",
        "print(f'Mean Squared Error: {mse_rf}')\n",
        "print(f'R-Squared : {r2_rf}')"
      ]
    },
    {
      "cell_type": "code",
      "execution_count": null,
      "metadata": {
        "id": "bzmdxNaByOjX",
        "outputId": "6c747ce8-abe0-421e-8544-bc1d29c048c6"
      },
      "outputs": [
        {
          "name": "stdout",
          "output_type": "stream",
          "text": [
            "Extra Trees Regressor :\n",
            "Mean Squared Error: 0.005976918531649351\n",
            "R-Squared : 0.9976876763558207\n"
          ]
        }
      ],
      "source": [
        "# Extra Trees Regressor\n",
        "et_model = ExtraTreesRegressor(n_estimators=100,max_depth=None, random_state=42)\n",
        "et_model.fit(x_train, y_train)\n",
        "y_pred_et = et_model.predict(x_test)\n",
        "\n",
        "# Evaluate the performance of extra trees regressor\n",
        "mse_et= mean_squared_error(y_test, y_pred_et)\n",
        "r2_et = r2_score(y_test,y_pred_et)\n",
        "r_scores.append(r2_et)\n",
        "\n",
        "print(\"Extra Trees Regressor :\")\n",
        "print(f'Mean Squared Error: {mse_et}')\n",
        "print(f'R-Squared : {r2_et}')"
      ]
    },
    {
      "cell_type": "code",
      "execution_count": null,
      "metadata": {
        "id": "55VfJTU9yOjZ"
      },
      "outputs": [],
      "source": [
        "#K neighbor regressor\n",
        "knn_model = KNeighborsRegressor(n_neighbors=5, weights='uniform', algorithm='auto')\n",
        "knn_model.fit(x_train,y_train)\n",
        "y_pred_knn = knn_model.predict(x_test)"
      ]
    },
    {
      "cell_type": "code",
      "execution_count": null,
      "metadata": {
        "id": "JsZiT1SvyOjZ",
        "outputId": "b5dc77e8-014c-44f4-c565-87e7368baf21"
      },
      "outputs": [
        {
          "name": "stdout",
          "output_type": "stream",
          "text": [
            "KNeighbors Rgressor :\n",
            "Mean Squared Error: 2.055965728635847\n",
            "R-Squared : 0.06523079504488788\n"
          ]
        }
      ],
      "source": [
        "# Evaluate the performance of KNN Regressor\n",
        "mse_knn= mean_squared_error(y_test, y_pred_knn)\n",
        "r2_knn = r2_score(y_test,y_pred_knn)\n",
        "r_scores.append(r2_knn)\n",
        "\n",
        "print(\"KNeighbors Rgressor :\")\n",
        "print(f'Mean Squared Error: {mse_knn}')\n",
        "print(f'R-Squared : {r2_knn}')"
      ]
    },
    {
      "cell_type": "code",
      "execution_count": null,
      "metadata": {
        "id": "SHqA83GKyOja",
        "outputId": "a22cdbe7-1a1f-4711-b6df-18f7b45ae2ab"
      },
      "outputs": [
        {
          "name": "stderr",
          "output_type": "stream",
          "text": [
            "C:\\Users\\HP\\anaconda3\\Lib\\site-packages\\sklearn\\ensemble\\_base.py:156: FutureWarning: `base_estimator` was renamed to `estimator` in version 1.2 and will be removed in 1.4.\n",
            "  warnings.warn(\n"
          ]
        }
      ],
      "source": [
        "#Bagging Regressor\n",
        "base_estimator = DecisionTreeRegressor()\n",
        "br_model = BaggingRegressor(base_estimator=base_estimator, n_estimators=100, max_samples=1.0,\n",
        "                                     max_features=1.0, bootstrap=True, bootstrap_features=False,\n",
        "                                     oob_score=False, random_state=42)\n",
        "\n",
        "# Fit the model to the training data\n",
        "br_model.fit(x_train, y_train)\n",
        "y_pred_br = br_model.predict(x_test)"
      ]
    },
    {
      "cell_type": "code",
      "execution_count": null,
      "metadata": {
        "id": "YmyDIz71yOjb",
        "outputId": "3f801830-e6ab-42c6-8c7f-6a28f215759c"
      },
      "outputs": [
        {
          "name": "stdout",
          "output_type": "stream",
          "text": [
            "MLP Rgressor :\n",
            "Mean Squared Error: 0.008161638599601341\n",
            "R-Squared : 0.9968424615779568\n"
          ]
        }
      ],
      "source": [
        "# Evaluate the performance of KNN Regressor\n",
        "mse_br= mean_squared_error(y_test, y_pred_br)\n",
        "r2_br = r2_score(y_test,y_pred_br)\n",
        "r_scores.append(r2_br)\n",
        "\n",
        "print(\"MLP Rgressor :\")\n",
        "print(f'Mean Squared Error: {mse_br}')\n",
        "print(f'R-Squared : {r2_br}')"
      ]
    },
    {
      "cell_type": "code",
      "execution_count": null,
      "metadata": {
        "id": "n544CNGdyOjd"
      },
      "outputs": [],
      "source": [
        "#MLP Regressor\n",
        "from sklearn.neural_network import MLPRegressor\n",
        "\n",
        "# Initialize the MLPRegressor with desired parameters\n",
        "mlp_regressor = MLPRegressor(hidden_layer_sizes=(100, 50), activation='relu', solver='adam')\n",
        "\n",
        "# Fit the model to the training data\n",
        "mlp_regressor.fit(x_train, y_train)\n",
        "y_predict_mlp = mlp_regressor.predict(x_test)"
      ]
    },
    {
      "cell_type": "code",
      "execution_count": null,
      "metadata": {
        "id": "CObYxdwJyOjd",
        "outputId": "bf584949-6643-4825-b0c4-928e83317e44"
      },
      "outputs": [
        {
          "name": "stdout",
          "output_type": "stream",
          "text": [
            "MLP Rgressor :\n",
            "Mean Squared Error: 0.19022420333979287\n",
            "R-Squared : 0.9255486158854569\n"
          ]
        }
      ],
      "source": [
        "# Evaluate the performance of KNN Regressor\n",
        "mse_mlp= mean_squared_error(y_test, y_predict_mlp)\n",
        "r2_mlp = r2_score(y_test,y_predict_mlp)\n",
        "r_scores.append(r2_mlp)\n",
        "\n",
        "print(\"MLP Rgressor :\")\n",
        "print(f'Mean Squared Error: {mse_mlp}')\n",
        "print(f'R-Squared : {r2_mlp}')"
      ]
    },
    {
      "cell_type": "code",
      "execution_count": null,
      "metadata": {
        "id": "LY-qjzgVyOje",
        "outputId": "583ce7e7-30d3-4f17-e7b7-f3e80ab0cf11"
      },
      "outputs": [
        {
          "name": "stdout",
          "output_type": "stream",
          "text": [
            "[0.9884425588785509, 0.9884425588785509, 0.9968549145186972, 0.9976876763558207, 0.06523079504488788, 0.9968424615779568, 0.9255486158854569, 0.9968424615779568]\n"
          ]
        }
      ],
      "source": [
        "print(r_scores)"
      ]
    },
    {
      "cell_type": "code",
      "execution_count": null,
      "metadata": {
        "id": "6N7D_Wx2yOjf"
      },
      "outputs": [],
      "source": [
        "mse_scores = [0.02987379564755963,0.008129450107098202,0.005976918531649351,2.055965728635847,0.19022420333979287,0.008161638599601341]"
      ]
    },
    {
      "cell_type": "code",
      "execution_count": null,
      "metadata": {
        "id": "-1AmiggHyOjf"
      },
      "outputs": [],
      "source": [
        "reg_names = ['Linear Regression','Random Forest Regressor','Extra Trees Regressor','KNeighborRegressor','MLP Regressor','Bagging Regressor']"
      ]
    },
    {
      "cell_type": "code",
      "execution_count": null,
      "metadata": {
        "id": "NZuM5BwiyOjg",
        "outputId": "aad1e7e7-5df0-4fbf-ea6b-6f553a441801"
      },
      "outputs": [
        {
          "data": {
            "text/html": [
              "<div>\n",
              "<style scoped>\n",
              "    .dataframe tbody tr th:only-of-type {\n",
              "        vertical-align: middle;\n",
              "    }\n",
              "\n",
              "    .dataframe tbody tr th {\n",
              "        vertical-align: top;\n",
              "    }\n",
              "\n",
              "    .dataframe thead th {\n",
              "        text-align: right;\n",
              "    }\n",
              "</style>\n",
              "<table border=\"1\" class=\"dataframe\">\n",
              "  <thead>\n",
              "    <tr style=\"text-align: right;\">\n",
              "      <th></th>\n",
              "      <th>r2</th>\n",
              "    </tr>\n",
              "  </thead>\n",
              "  <tbody>\n",
              "    <tr>\n",
              "      <th>LinearRegression</th>\n",
              "      <td>0.988443</td>\n",
              "    </tr>\n",
              "    <tr>\n",
              "      <th>RandomForest Regressor</th>\n",
              "      <td>0.996855</td>\n",
              "    </tr>\n",
              "    <tr>\n",
              "      <th>Extra Trees Regressor</th>\n",
              "      <td>0.997688</td>\n",
              "    </tr>\n",
              "    <tr>\n",
              "      <th>KNeighborRegressor</th>\n",
              "      <td>0.065231</td>\n",
              "    </tr>\n",
              "    <tr>\n",
              "      <th>MLP Regressor</th>\n",
              "      <td>0.925549</td>\n",
              "    </tr>\n",
              "    <tr>\n",
              "      <th>Bagging Regressor</th>\n",
              "      <td>0.996842</td>\n",
              "    </tr>\n",
              "  </tbody>\n",
              "</table>\n",
              "</div>"
            ],
            "text/plain": [
              "                              r2\n",
              "LinearRegression        0.988443\n",
              "RandomForest Regressor  0.996855\n",
              "Extra Trees Regressor   0.997688\n",
              "KNeighborRegressor      0.065231\n",
              "MLP Regressor           0.925549\n",
              "Bagging Regressor       0.996842"
            ]
          },
          "execution_count": 69,
          "metadata": {},
          "output_type": "execute_result"
        },
        {
          "data": {
            "image/png": "[encoded data removed]",
            "text/plain": [
              "<Figure size 800x400 with 1 Axes>"
            ]
          },
          "metadata": {},
          "output_type": "display_data"
        }
      ],
      "source": [
        "import pandas as pd\n",
        "\n",
        "r2_scores = [0.9884425588785509, 0.9968549145186972, 0.9976876763558207, 0.06523079504488788, 0.9255486158854569, 0.9968424615779568]\n",
        "reg_names = ['LinearRegression', 'RandomForest Regressor', 'Extra Trees Regressor', 'KNeighborRegressor', 'MLP Regressor', 'Bagging Regressor']\n",
        "\n",
        "# Create a dictionary with keys as column names and values as data\n",
        "data = {'r2': r2_scores}\n",
        "\n",
        "# Create DataFrame using the dictionary and set the index to reg_names\n",
        "r2_rmse_df = pd.DataFrame(data, index=reg_names)\n",
        "\n",
        "# Plot the R-squared values\n",
        "r2_rmse_df['r2'].sort_values().plot(kind=\"barh\", xlim=(-1,1), title=\"R-Squared\", figsize=(8,4), cmap=\"tab20\")\n",
        "r2_rmse_df"
      ]
    },
    {
      "cell_type": "code",
      "execution_count": null,
      "metadata": {
        "id": "0fsO6dJ9yOjh",
        "outputId": "5a28e055-dd8e-409a-b831-5aecbce4dd0a"
      },
      "outputs": [
        {
          "name": "stdout",
          "output_type": "stream",
          "text": [
            "                             mse\n",
            "LinearRegression        0.029874\n",
            "RandomForest Regressor  0.008129\n",
            "Extra Trees Regressor   0.005977\n",
            "KNeighborRegressor      2.055966\n",
            "MLP Regressor           0.190224\n",
            "Bagging Regressor       0.008162\n",
            "0.09034178767105144\n"
          ]
        }
      ],
      "source": [
        "data = {'mse': mse_scores}\n",
        "\n",
        "# Create DataFrame using the dictionary and set the index to reg_names\n",
        "mse_df = pd.DataFrame(data, index=reg_names)\n",
        "mse_df['mse'].sort_values()\n",
        "print(mse_df)\n",
        "print(np.sqrt(mse_scores[5]))"
      ]
    }
  ],
  "metadata": {
    "kernelspec": {
      "display_name": "Python 3 (ipykernel)",
      "language": "python",
      "name": "python3"
    },
    "language_info": {
      "codemirror_mode": {
        "name": "ipython",
        "version": 3
      },
      "file_extension": ".py",
      "mimetype": "text/x-python",
      "name": "python",
      "nbconvert_exporter": "python",
      "pygments_lexer": "ipython3",
      "version": "3.11.5"
    },
    "colab": {
      "provenance": []
    }
  },
  "nbformat": 4,
  "nbformat_minor": 0
}